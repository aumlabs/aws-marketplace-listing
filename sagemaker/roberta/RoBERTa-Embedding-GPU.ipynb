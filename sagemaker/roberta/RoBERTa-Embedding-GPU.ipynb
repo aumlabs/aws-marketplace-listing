{
 "cells": [
  {
   "cell_type": "markdown",
   "metadata": {},
   "source": [
    "# Deploy RoBERTa Embedding (GPU) Model Package from AWS Marketplace \n"
   ]
  },
  {
   "cell_type": "markdown",
   "metadata": {},
   "source": [
    "This sample notebook shows you how to deploy [RoBERTa Embedding (GPU)](https://aws.amazon.com/marketplace/pp/prodview-pwfcefr5utpwg) using Amazon SageMaker. You could use the embedding for semantic similarity and building RAG solutions.\n",
    "\n",
    "This listing is specifically to run on GPU instances. If you would like to deploy this package on a CPU instance, use the following [RoBERTa Embedding model package](https://aws.amazon.com/marketplace/pp/prodview-nvrw726ubwj26)\n",
    "\n",
    "\n",
    "## Pre-requisites:\n",
    "1. **Note**: This notebook contains elements which render correctly in Jupyter interface. Open this notebook from an Amazon SageMaker Notebook Instance or Amazon SageMaker Studio.\n",
    "1. Ensure that IAM role used has **AmazonSageMakerFullAccess**\n",
    "1. To deploy this ML model successfully, ensure that your IAM role has these three permissions and you have authority to make AWS Marketplace subscriptions in the AWS account used: \n",
    "   1. **aws-marketplace:ViewSubscriptions**\n",
    "   1. **aws-marketplace:Unsubscribe**\n",
    "   1. **aws-marketplace:Subscribe**  \n",
    "\n",
    "## Contents:\n",
    "\n",
    "\n",
    "You can deploy the package via the UI or programmatically. After the deployment is complete you should have an API endpoint that you can query with your data in your private cloud. Below are the steps to use the model package via both the methods. We suggest starting with the UI method since that's the simplest.\n",
    "\n",
    "\n",
    "### Deploy via UI\n",
    "\n",
    "1. [Subscribe to the model package from the UI](#1.-Subscribe-to-the-model-package-from-the-UI)\n",
    "2. [Invoke the endpoint via CLI](#2.-Invoke-the-endpoint-via-CLI)\n",
    "\n",
    "### Deploy Programmatically (Optional)\n",
    "1. [Subscribe to the model package](#1.-Subscribe-to-the-model-package)\n",
    "2. [Create an endpoint and perform real-time inference](#2.-Create-an-endpoint-and-perform-real-time-inference)\n",
    "   1. [Create an endpoint](#A.-Create-an-endpoint)\n",
    "   2. [Create input payload](#B.-Create-input-payload)\n",
    "   3. [Perform real-time inference](#C.-Perform-real-time-inference)\n",
    "   4. [Visualize output](#D.-Visualize-output)\n",
    "   5. [Delete the endpoint](#E.-Delete-the-endpoint)\n",
    "3. [Perform batch inference](#3.-Perform-batch-inference) \n",
    "4. [Clean-up](#4.-Clean-up)\n",
    "    1. [Delete the model](#A.-Delete-the-model)\n",
    "    2. [Unsubscribe to the listing (optional)](#B.-Unsubscribe-to-the-listing-(optional))\n",
    "    \n",
    "\n",
    "## Usage instructions\n",
    "You can run this notebook one cell at a time (By using Shift+Enter for running a cell)."
   ]
  },
  {
   "cell_type": "markdown",
   "metadata": {},
   "source": [
    "# Deploy via UI\n"
   ]
  },
  {
   "cell_type": "markdown",
   "metadata": {},
   "source": [
    "## 1. Subscribe to the model package from the UI"
   ]
  },
  {
   "cell_type": "markdown",
   "metadata": {},
   "source": [
    "To subscribe to the model package:\n",
    "1. Open the model package listing page:[RoBERTa Embedding](https://aws.amazon.com/marketplace/pp/prodview-pwfcefr5utpwg).\n",
    "1. On the AWS Marketplace listing, click on the **Continue to subscribe** button.\n",
    "1. On the **Subscribe to this software** page, review and click on **\"Accept Offer\"** if you and your organization agrees with EULA, pricing, and support terms. \n",
    "1. Once you click on **Continue to configuration button**, choose one of the recommended launch methods. We recommend using AWS Cloudformation launch method for seamless deployment without any manual steps. Choose one of the existing sagemaker IAM roles or let the UI create a new role. Click on the **Launch CloudFormation Template** to begin creation of Sagemaker endpoint. \n",
    "1. Next on the **Create Stack** page, review the parameters and click on the **Create stack** button. This should start the creation of stack which will create a sagemaker endpoint ready to be queried. "
   ]
  },
  {
   "cell_type": "markdown",
   "metadata": {},
   "source": [
    "![title](./imgs/launch-method.png)"
   ]
  },
  {
   "cell_type": "markdown",
   "metadata": {
    "tags": []
   },
   "source": [
    "Note the name of the sagemaker endpoint created. It should be visible under the **AWS Sagemaker Console > Inference > Endpoints** as shown in the image below"
   ]
  },
  {
   "cell_type": "markdown",
   "metadata": {},
   "source": [
    "![title](./imgs/endpoint-name.png)"
   ]
  },
  {
   "cell_type": "markdown",
   "metadata": {},
   "source": [
    "Save the name of the endpoint in a variable"
   ]
  },
  {
   "cell_type": "code",
   "execution_count": 1,
   "metadata": {
    "tags": []
   },
   "outputs": [],
   "source": [
    "endpoint_name = \"Endpoint-RoBERTa-Embedding-GPU--1\""
   ]
  },
  {
   "cell_type": "markdown",
   "metadata": {},
   "source": [
    "## 2. Invoke the endpoint via CLI"
   ]
  },
  {
   "cell_type": "markdown",
   "metadata": {},
   "source": [
    "The endpoint takes input in the following format `'{\"sentences\": [\"Hello, how are you doing?\", \"I am doing great, how about you?\"]}'`. It takes an array of sentences and returns an array of embedding corresponding to each of the sentences. "
   ]
  },
  {
   "cell_type": "code",
   "execution_count": 2,
   "metadata": {},
   "outputs": [],
   "source": [
    "# Escape the text(body) to be able to pass it from the CLI\n",
    "body = \"\"\"'{\"sentences\": [\"Hello, how are you doing?\", \"I am doing great, how about you?\"]}'\"\"\"\n",
    "content_type = \"application/json\"\n",
    "region = \"us-east-1\""
   ]
  },
  {
   "cell_type": "markdown",
   "metadata": {
    "tags": []
   },
   "source": [
    "The output from the endpoint is written to the file output.json"
   ]
  },
  {
   "cell_type": "code",
   "execution_count": 3,
   "metadata": {
    "tags": []
   },
   "outputs": [
    {
     "name": "stdout",
     "output_type": "stream",
     "text": [
      "{\r\n",
      "    \"ContentType\": \"application/json\",\r\n",
      "    \"InvokedProductionVariant\": \"AllTraffic\"\r\n",
      "}\r\n"
     ]
    }
   ],
   "source": [
    "!aws sagemaker-runtime invoke-endpoint \\\n",
    "    --endpoint-name $endpoint_name \\\n",
    "    --body $body \\\n",
    "    --content-type $content_type \\\n",
    "    --region $region \\\n",
    "    output.json"
   ]
  },
  {
   "cell_type": "markdown",
   "metadata": {
    "tags": []
   },
   "source": [
    "Your sagemaker endpoint is ready to be queried and used! "
   ]
  },
  {
   "cell_type": "code",
   "execution_count": 4,
   "metadata": {
    "tags": []
   },
   "outputs": [
    {
     "name": "stdout",
     "output_type": "stream",
     "text": [
      "{\"embeddings\":[[-0.06667929887771606,0.19491343200206757,0.03849894180893898,-0.040051594376564026,0"
     ]
    }
   ],
   "source": [
    "# Check the output from the endpoint\n",
    "!head -c 100 output.json"
   ]
  },
  {
   "cell_type": "markdown",
   "metadata": {},
   "source": [
    "# Deploy programmatically\n"
   ]
  },
  {
   "cell_type": "markdown",
   "metadata": {
    "tags": []
   },
   "source": [
    "## 1. Subscribe to the model package"
   ]
  },
  {
   "cell_type": "markdown",
   "metadata": {},
   "source": [
    "To subscribe to the model package:\n",
    "1. Open the model package listing page:[RoBERTa Embedding](https://aws.amazon.com/marketplace/pp/prodview-pwfcefr5utpwg).\n",
    "1. On the AWS Marketplace listing, click on the **Continue to subscribe** button.\n",
    "1. On the **Subscribe to this software** page, review and click on **\"Accept Offer\"** if you and your organization agrees with EULA, pricing, and support terms. \n",
    "1. Once you click on **Continue to configuration button** and then choose a **region**, you will see a **Product Arn** displayed. This is the model package ARN that you need to specify while creating a deployable model using Boto3. Copy the ARN corresponding to your region and specify the same in the following cell."
   ]
  },
  {
   "cell_type": "code",
   "execution_count": 5,
   "metadata": {
    "tags": []
   },
   "outputs": [],
   "source": [
    "model_package_arn = \"arn:aws:sagemaker:us-east-1:865070037744:model-package/roberta-embedding-gpu-0e3ddbbf3f67361f8105c400b8b2d1e2\""
   ]
  },
  {
   "cell_type": "code",
   "execution_count": 6,
   "metadata": {
    "tags": []
   },
   "outputs": [
    {
     "name": "stderr",
     "output_type": "stream",
     "text": [
      "/home/ec2-user/anaconda3/envs/python3/lib/python3.10/site-packages/pydantic/_internal/_fields.py:192: UserWarning: Field name \"json\" in \"MonitoringDatasetFormat\" shadows an attribute in parent \"Base\"\n",
      "  warnings.warn(\n"
     ]
    },
    {
     "data": {
      "text/html": [
       "<pre style=\"white-space:pre;overflow-x:auto;line-height:normal;font-family:Menlo,'DejaVu Sans Mono',consolas,'Courier New',monospace\"><span style=\"color: #7fbfbf; text-decoration-color: #7fbfbf\">[01/24/25 23:44:30] </span><span style=\"color: #0069ff; text-decoration-color: #0069ff; font-weight: bold\">INFO    </span> Found credentials from IAM Role:                                   <a href=\"file:///home/ec2-user/anaconda3/envs/python3/lib/python3.10/site-packages/botocore/credentials.py\" target=\"_blank\"><span style=\"color: #7f7f7f; text-decoration-color: #7f7f7f\">credentials.py</span></a><span style=\"color: #7f7f7f; text-decoration-color: #7f7f7f\">:</span><a href=\"file:///home/ec2-user/anaconda3/envs/python3/lib/python3.10/site-packages/botocore/credentials.py#1075\" target=\"_blank\"><span style=\"color: #7f7f7f; text-decoration-color: #7f7f7f\">1075</span></a>\n",
       "<span style=\"color: #7fbfbf; text-decoration-color: #7fbfbf\">                    </span>         BaseNotebookInstanceEc2InstanceRole                                <span style=\"color: #7f7f7f; text-decoration-color: #7f7f7f\">                   </span>\n",
       "</pre>\n"
      ],
      "text/plain": [
       "\u001b[2;36m[01/24/25 23:44:30]\u001b[0m\u001b[2;36m \u001b[0m\u001b[1;38;2;0;105;255mINFO    \u001b[0m Found credentials from IAM Role:                                   \u001b]8;id=392716;file:///home/ec2-user/anaconda3/envs/python3/lib/python3.10/site-packages/botocore/credentials.py\u001b\\\u001b[2mcredentials.py\u001b[0m\u001b]8;;\u001b\\\u001b[2m:\u001b[0m\u001b]8;id=987033;file:///home/ec2-user/anaconda3/envs/python3/lib/python3.10/site-packages/botocore/credentials.py#1075\u001b\\\u001b[2m1075\u001b[0m\u001b]8;;\u001b\\\n",
       "\u001b[2;36m                    \u001b[0m         BaseNotebookInstanceEc2InstanceRole                                \u001b[2m                   \u001b[0m\n"
      ]
     },
     "metadata": {},
     "output_type": "display_data"
    },
    {
     "name": "stdout",
     "output_type": "stream",
     "text": [
      "sagemaker.config INFO - Not applying SDK defaults from location: /etc/xdg/sagemaker/config.yaml\n",
      "sagemaker.config INFO - Not applying SDK defaults from location: /home/ec2-user/.config/sagemaker/config.yaml\n"
     ]
    }
   ],
   "source": [
    "import sagemaker as sage\n",
    "from sagemaker import get_execution_role\n",
    "from sagemaker import ModelPackage\n",
    "import boto3"
   ]
  },
  {
   "cell_type": "code",
   "execution_count": 7,
   "metadata": {
    "tags": []
   },
   "outputs": [
    {
     "data": {
      "text/html": [
       "<pre style=\"white-space:pre;overflow-x:auto;line-height:normal;font-family:Menlo,'DejaVu Sans Mono',consolas,'Courier New',monospace\"><span style=\"color: #7fbfbf; text-decoration-color: #7fbfbf\">                    </span><span style=\"color: #0069ff; text-decoration-color: #0069ff; font-weight: bold\">INFO    </span> Found credentials from IAM Role:                                   <a href=\"file:///home/ec2-user/anaconda3/envs/python3/lib/python3.10/site-packages/botocore/credentials.py\" target=\"_blank\"><span style=\"color: #7f7f7f; text-decoration-color: #7f7f7f\">credentials.py</span></a><span style=\"color: #7f7f7f; text-decoration-color: #7f7f7f\">:</span><a href=\"file:///home/ec2-user/anaconda3/envs/python3/lib/python3.10/site-packages/botocore/credentials.py#1075\" target=\"_blank\"><span style=\"color: #7f7f7f; text-decoration-color: #7f7f7f\">1075</span></a>\n",
       "<span style=\"color: #7fbfbf; text-decoration-color: #7fbfbf\">                    </span>         BaseNotebookInstanceEc2InstanceRole                                <span style=\"color: #7f7f7f; text-decoration-color: #7f7f7f\">                   </span>\n",
       "</pre>\n"
      ],
      "text/plain": [
       "\u001b[2;36m                   \u001b[0m\u001b[2;36m \u001b[0m\u001b[1;38;2;0;105;255mINFO    \u001b[0m Found credentials from IAM Role:                                   \u001b]8;id=162694;file:///home/ec2-user/anaconda3/envs/python3/lib/python3.10/site-packages/botocore/credentials.py\u001b\\\u001b[2mcredentials.py\u001b[0m\u001b]8;;\u001b\\\u001b[2m:\u001b[0m\u001b]8;id=157717;file:///home/ec2-user/anaconda3/envs/python3/lib/python3.10/site-packages/botocore/credentials.py#1075\u001b\\\u001b[2m1075\u001b[0m\u001b]8;;\u001b\\\n",
       "\u001b[2;36m                    \u001b[0m         BaseNotebookInstanceEc2InstanceRole                                \u001b[2m                   \u001b[0m\n"
      ]
     },
     "metadata": {},
     "output_type": "display_data"
    },
    {
     "data": {
      "text/html": [
       "<pre style=\"white-space:pre;overflow-x:auto;line-height:normal;font-family:Menlo,'DejaVu Sans Mono',consolas,'Courier New',monospace\"><span style=\"color: #7fbfbf; text-decoration-color: #7fbfbf\">[01/24/25 23:44:31] </span><span style=\"color: #0069ff; text-decoration-color: #0069ff; font-weight: bold\">INFO    </span> Found credentials from IAM Role:                                   <a href=\"file:///home/ec2-user/anaconda3/envs/python3/lib/python3.10/site-packages/botocore/credentials.py\" target=\"_blank\"><span style=\"color: #7f7f7f; text-decoration-color: #7f7f7f\">credentials.py</span></a><span style=\"color: #7f7f7f; text-decoration-color: #7f7f7f\">:</span><a href=\"file:///home/ec2-user/anaconda3/envs/python3/lib/python3.10/site-packages/botocore/credentials.py#1075\" target=\"_blank\"><span style=\"color: #7f7f7f; text-decoration-color: #7f7f7f\">1075</span></a>\n",
       "<span style=\"color: #7fbfbf; text-decoration-color: #7fbfbf\">                    </span>         BaseNotebookInstanceEc2InstanceRole                                <span style=\"color: #7f7f7f; text-decoration-color: #7f7f7f\">                   </span>\n",
       "</pre>\n"
      ],
      "text/plain": [
       "\u001b[2;36m[01/24/25 23:44:31]\u001b[0m\u001b[2;36m \u001b[0m\u001b[1;38;2;0;105;255mINFO    \u001b[0m Found credentials from IAM Role:                                   \u001b]8;id=40309;file:///home/ec2-user/anaconda3/envs/python3/lib/python3.10/site-packages/botocore/credentials.py\u001b\\\u001b[2mcredentials.py\u001b[0m\u001b]8;;\u001b\\\u001b[2m:\u001b[0m\u001b]8;id=619682;file:///home/ec2-user/anaconda3/envs/python3/lib/python3.10/site-packages/botocore/credentials.py#1075\u001b\\\u001b[2m1075\u001b[0m\u001b]8;;\u001b\\\n",
       "\u001b[2;36m                    \u001b[0m         BaseNotebookInstanceEc2InstanceRole                                \u001b[2m                   \u001b[0m\n"
      ]
     },
     "metadata": {},
     "output_type": "display_data"
    },
    {
     "data": {
      "text/html": [
       "<pre style=\"white-space:pre;overflow-x:auto;line-height:normal;font-family:Menlo,'DejaVu Sans Mono',consolas,'Courier New',monospace\"><span style=\"color: #7fbfbf; text-decoration-color: #7fbfbf\">                    </span><span style=\"color: #0069ff; text-decoration-color: #0069ff; font-weight: bold\">INFO    </span> Found credentials from IAM Role:                                   <a href=\"file:///home/ec2-user/anaconda3/envs/python3/lib/python3.10/site-packages/botocore/credentials.py\" target=\"_blank\"><span style=\"color: #7f7f7f; text-decoration-color: #7f7f7f\">credentials.py</span></a><span style=\"color: #7f7f7f; text-decoration-color: #7f7f7f\">:</span><a href=\"file:///home/ec2-user/anaconda3/envs/python3/lib/python3.10/site-packages/botocore/credentials.py#1075\" target=\"_blank\"><span style=\"color: #7f7f7f; text-decoration-color: #7f7f7f\">1075</span></a>\n",
       "<span style=\"color: #7fbfbf; text-decoration-color: #7fbfbf\">                    </span>         BaseNotebookInstanceEc2InstanceRole                                <span style=\"color: #7f7f7f; text-decoration-color: #7f7f7f\">                   </span>\n",
       "</pre>\n"
      ],
      "text/plain": [
       "\u001b[2;36m                   \u001b[0m\u001b[2;36m \u001b[0m\u001b[1;38;2;0;105;255mINFO    \u001b[0m Found credentials from IAM Role:                                   \u001b]8;id=488834;file:///home/ec2-user/anaconda3/envs/python3/lib/python3.10/site-packages/botocore/credentials.py\u001b\\\u001b[2mcredentials.py\u001b[0m\u001b]8;;\u001b\\\u001b[2m:\u001b[0m\u001b]8;id=12935;file:///home/ec2-user/anaconda3/envs/python3/lib/python3.10/site-packages/botocore/credentials.py#1075\u001b\\\u001b[2m1075\u001b[0m\u001b]8;;\u001b\\\n",
       "\u001b[2;36m                    \u001b[0m         BaseNotebookInstanceEc2InstanceRole                                \u001b[2m                   \u001b[0m\n"
      ]
     },
     "metadata": {},
     "output_type": "display_data"
    },
    {
     "data": {
      "text/plain": [
       "'sagemaker-us-east-1-809103429415'"
      ]
     },
     "execution_count": 7,
     "metadata": {},
     "output_type": "execute_result"
    }
   ],
   "source": [
    "role = get_execution_role()\n",
    "\n",
    "sagemaker_session = sage.Session()\n",
    "\n",
    "bucket = sagemaker_session.default_bucket()\n",
    "runtime = boto3.client(\"runtime.sagemaker\")\n",
    "bucket"
   ]
  },
  {
   "cell_type": "markdown",
   "metadata": {},
   "source": [
    "## 2. Create an endpoint and perform real-time inference"
   ]
  },
  {
   "cell_type": "markdown",
   "metadata": {},
   "source": [
    "If you want to understand how real-time inference with Amazon SageMaker works, see [Documentation](https://docs.aws.amazon.com/sagemaker/latest/dg/how-it-works-hosting.html)."
   ]
  },
  {
   "cell_type": "code",
   "execution_count": 8,
   "metadata": {
    "tags": []
   },
   "outputs": [],
   "source": [
    "model_name = \"roberta-embedding\"\n",
    "\n",
    "content_type = \"application/json\"\n",
    "\n",
    "real_time_inference_instance_type = (\n",
    "    \"ml.g5.2xlarge\"\n",
    ")\n",
    "batch_transform_inference_instance_type = (\n",
    "    \"ml.g5.2xlarge\"\n",
    ")"
   ]
  },
  {
   "cell_type": "markdown",
   "metadata": {},
   "source": [
    "### A. Create an endpoint"
   ]
  },
  {
   "cell_type": "code",
   "execution_count": 9,
   "metadata": {
    "tags": []
   },
   "outputs": [
    {
     "data": {
      "text/html": [
       "<pre style=\"white-space:pre;overflow-x:auto;line-height:normal;font-family:Menlo,'DejaVu Sans Mono',consolas,'Courier New',monospace\"><span style=\"color: #7fbfbf; text-decoration-color: #7fbfbf\">[01/24/25 23:44:35] </span><span style=\"color: #0069ff; text-decoration-color: #0069ff; font-weight: bold\">INFO    </span> Creating model with name:                                              <a href=\"file:///home/ec2-user/anaconda3/envs/python3/lib/python3.10/site-packages/sagemaker/session.py\" target=\"_blank\"><span style=\"color: #7f7f7f; text-decoration-color: #7f7f7f\">session.py</span></a><span style=\"color: #7f7f7f; text-decoration-color: #7f7f7f\">:</span><a href=\"file:///home/ec2-user/anaconda3/envs/python3/lib/python3.10/site-packages/sagemaker/session.py#4094\" target=\"_blank\"><span style=\"color: #7f7f7f; text-decoration-color: #7f7f7f\">4094</span></a>\n",
       "<span style=\"color: #7fbfbf; text-decoration-color: #7fbfbf\">                    </span>         roberta-embedding-gpu-0e3ddbbf3f67361f8-<span style=\"color: #008080; text-decoration-color: #008080; font-weight: bold\">2025</span>-01-24-23-44-35-587        <span style=\"color: #7f7f7f; text-decoration-color: #7f7f7f\">               </span>\n",
       "</pre>\n"
      ],
      "text/plain": [
       "\u001b[2;36m[01/24/25 23:44:35]\u001b[0m\u001b[2;36m \u001b[0m\u001b[1;38;2;0;105;255mINFO    \u001b[0m Creating model with name:                                              \u001b]8;id=378482;file:///home/ec2-user/anaconda3/envs/python3/lib/python3.10/site-packages/sagemaker/session.py\u001b\\\u001b[2msession.py\u001b[0m\u001b]8;;\u001b\\\u001b[2m:\u001b[0m\u001b]8;id=783668;file:///home/ec2-user/anaconda3/envs/python3/lib/python3.10/site-packages/sagemaker/session.py#4094\u001b\\\u001b[2m4094\u001b[0m\u001b]8;;\u001b\\\n",
       "\u001b[2;36m                    \u001b[0m         roberta-embedding-gpu-0e3ddbbf3f67361f8-\u001b[1;36m2025\u001b[0m-01-24-23-44-35-587        \u001b[2m               \u001b[0m\n"
      ]
     },
     "metadata": {},
     "output_type": "display_data"
    },
    {
     "data": {
      "text/html": [
       "<pre style=\"white-space:pre;overflow-x:auto;line-height:normal;font-family:Menlo,'DejaVu Sans Mono',consolas,'Courier New',monospace\"><span style=\"color: #7fbfbf; text-decoration-color: #7fbfbf\">[01/24/25 23:44:36] </span><span style=\"color: #0069ff; text-decoration-color: #0069ff; font-weight: bold\">INFO    </span> Creating endpoint-config with name roberta-embedding                   <a href=\"file:///home/ec2-user/anaconda3/envs/python3/lib/python3.10/site-packages/sagemaker/session.py\" target=\"_blank\"><span style=\"color: #7f7f7f; text-decoration-color: #7f7f7f\">session.py</span></a><span style=\"color: #7f7f7f; text-decoration-color: #7f7f7f\">:</span><a href=\"file:///home/ec2-user/anaconda3/envs/python3/lib/python3.10/site-packages/sagemaker/session.py#5889\" target=\"_blank\"><span style=\"color: #7f7f7f; text-decoration-color: #7f7f7f\">5889</span></a>\n",
       "</pre>\n"
      ],
      "text/plain": [
       "\u001b[2;36m[01/24/25 23:44:36]\u001b[0m\u001b[2;36m \u001b[0m\u001b[1;38;2;0;105;255mINFO    \u001b[0m Creating endpoint-config with name roberta-embedding                   \u001b]8;id=512180;file:///home/ec2-user/anaconda3/envs/python3/lib/python3.10/site-packages/sagemaker/session.py\u001b\\\u001b[2msession.py\u001b[0m\u001b]8;;\u001b\\\u001b[2m:\u001b[0m\u001b]8;id=534017;file:///home/ec2-user/anaconda3/envs/python3/lib/python3.10/site-packages/sagemaker/session.py#5889\u001b\\\u001b[2m5889\u001b[0m\u001b]8;;\u001b\\\n"
      ]
     },
     "metadata": {},
     "output_type": "display_data"
    },
    {
     "data": {
      "text/html": [
       "<pre style=\"white-space:pre;overflow-x:auto;line-height:normal;font-family:Menlo,'DejaVu Sans Mono',consolas,'Courier New',monospace\"><span style=\"color: #7fbfbf; text-decoration-color: #7fbfbf\">                    </span><span style=\"color: #0069ff; text-decoration-color: #0069ff; font-weight: bold\">INFO    </span> Creating endpoint with name roberta-embedding                          <a href=\"file:///home/ec2-user/anaconda3/envs/python3/lib/python3.10/site-packages/sagemaker/session.py\" target=\"_blank\"><span style=\"color: #7f7f7f; text-decoration-color: #7f7f7f\">session.py</span></a><span style=\"color: #7f7f7f; text-decoration-color: #7f7f7f\">:</span><a href=\"file:///home/ec2-user/anaconda3/envs/python3/lib/python3.10/site-packages/sagemaker/session.py#4711\" target=\"_blank\"><span style=\"color: #7f7f7f; text-decoration-color: #7f7f7f\">4711</span></a>\n",
       "</pre>\n"
      ],
      "text/plain": [
       "\u001b[2;36m                   \u001b[0m\u001b[2;36m \u001b[0m\u001b[1;38;2;0;105;255mINFO    \u001b[0m Creating endpoint with name roberta-embedding                          \u001b]8;id=987752;file:///home/ec2-user/anaconda3/envs/python3/lib/python3.10/site-packages/sagemaker/session.py\u001b\\\u001b[2msession.py\u001b[0m\u001b]8;;\u001b\\\u001b[2m:\u001b[0m\u001b]8;id=248559;file:///home/ec2-user/anaconda3/envs/python3/lib/python3.10/site-packages/sagemaker/session.py#4711\u001b\\\u001b[2m4711\u001b[0m\u001b]8;;\u001b\\\n"
      ]
     },
     "metadata": {},
     "output_type": "display_data"
    },
    {
     "name": "stdout",
     "output_type": "stream",
     "text": [
      "-------------!"
     ]
    }
   ],
   "source": [
    "# create a deployable model from the model package.\n",
    "model = ModelPackage(\n",
    "    role=role, model_package_arn=model_package_arn, sagemaker_session=sagemaker_session\n",
    ")\n",
    "\n",
    "# Deploy the model\n",
    "predictor = model.deploy(1, real_time_inference_instance_type, endpoint_name=model_name)"
   ]
  },
  {
   "cell_type": "markdown",
   "metadata": {},
   "source": [
    "Once endpoint has been created, you would be able to perform real-time inference."
   ]
  },
  {
   "cell_type": "markdown",
   "metadata": {},
   "source": [
    "### B. Create input payload"
   ]
  },
  {
   "cell_type": "code",
   "execution_count": 10,
   "metadata": {
    "tags": []
   },
   "outputs": [],
   "source": [
    "expected_input_format = '{\"sentences\": [\"Hello, how are you doing?\", \"I am doing great, how about you?\"]}'\n",
    "file_name = \"input.json\"\n",
    "with open(file_name, \"w\") as f:\n",
    "    f.write(expected_input_format)"
   ]
  },
  {
   "cell_type": "markdown",
   "metadata": {},
   "source": [
    "<Add code snippet that shows the payload contents>"
   ]
  },
  {
   "cell_type": "code",
   "execution_count": 11,
   "metadata": {
    "tags": []
   },
   "outputs": [],
   "source": [
    "output_file_name = \"output.json\""
   ]
  },
  {
   "cell_type": "markdown",
   "metadata": {},
   "source": [
    "### C. Perform real-time inference"
   ]
  },
  {
   "cell_type": "code",
   "execution_count": 12,
   "metadata": {
    "tags": []
   },
   "outputs": [
    {
     "name": "stdout",
     "output_type": "stream",
     "text": [
      "{\r\n",
      "    \"ContentType\": \"application/json\",\r\n",
      "    \"InvokedProductionVariant\": \"AllTraffic\"\r\n",
      "}\r\n"
     ]
    }
   ],
   "source": [
    "! aws sagemaker-runtime invoke-endpoint --endpoint-name $model_name --body fileb://$file_name --content-type $content_type --region $sagemaker_session.boto_region_name $output_file_name"
   ]
  },
  {
   "cell_type": "markdown",
   "metadata": {
    "tags": []
   },
   "source": [
    "### D. Visualize output"
   ]
  },
  {
   "cell_type": "code",
   "execution_count": 13,
   "metadata": {
    "tags": []
   },
   "outputs": [
    {
     "name": "stdout",
     "output_type": "stream",
     "text": [
      "{\"embeddings\":[[-0.06667929887771606,0.19491343200206757,0.03849894180893898,-0.040051594376564026,0"
     ]
    }
   ],
   "source": [
    "!head -c 100 output.json"
   ]
  },
  {
   "cell_type": "markdown",
   "metadata": {},
   "source": [
    "### E. Delete the endpoint"
   ]
  },
  {
   "cell_type": "markdown",
   "metadata": {},
   "source": [
    "You can terminate the endpoint anytime as follows:"
   ]
  },
  {
   "cell_type": "code",
   "execution_count": 14,
   "metadata": {
    "tags": []
   },
   "outputs": [
    {
     "data": {
      "text/html": [
       "<pre style=\"white-space:pre;overflow-x:auto;line-height:normal;font-family:Menlo,'DejaVu Sans Mono',consolas,'Courier New',monospace\"><span style=\"color: #7fbfbf; text-decoration-color: #7fbfbf\">[01/25/25 00:39:22] </span><span style=\"color: #0069ff; text-decoration-color: #0069ff; font-weight: bold\">INFO    </span> Deleting endpoint with name: roberta-embedding                         <a href=\"file:///home/ec2-user/anaconda3/envs/python3/lib/python3.10/site-packages/sagemaker/session.py\" target=\"_blank\"><span style=\"color: #7f7f7f; text-decoration-color: #7f7f7f\">session.py</span></a><span style=\"color: #7f7f7f; text-decoration-color: #7f7f7f\">:</span><a href=\"file:///home/ec2-user/anaconda3/envs/python3/lib/python3.10/site-packages/sagemaker/session.py#4855\" target=\"_blank\"><span style=\"color: #7f7f7f; text-decoration-color: #7f7f7f\">4855</span></a>\n",
       "</pre>\n"
      ],
      "text/plain": [
       "\u001b[2;36m[01/25/25 00:39:22]\u001b[0m\u001b[2;36m \u001b[0m\u001b[1;38;2;0;105;255mINFO    \u001b[0m Deleting endpoint with name: roberta-embedding                         \u001b]8;id=734309;file:///home/ec2-user/anaconda3/envs/python3/lib/python3.10/site-packages/sagemaker/session.py\u001b\\\u001b[2msession.py\u001b[0m\u001b]8;;\u001b\\\u001b[2m:\u001b[0m\u001b]8;id=7199;file:///home/ec2-user/anaconda3/envs/python3/lib/python3.10/site-packages/sagemaker/session.py#4855\u001b\\\u001b[2m4855\u001b[0m\u001b]8;;\u001b\\\n"
      ]
     },
     "metadata": {},
     "output_type": "display_data"
    },
    {
     "data": {
      "text/html": [
       "<pre style=\"white-space:pre;overflow-x:auto;line-height:normal;font-family:Menlo,'DejaVu Sans Mono',consolas,'Courier New',monospace\"><span style=\"color: #7fbfbf; text-decoration-color: #7fbfbf\">                    </span><span style=\"color: #0069ff; text-decoration-color: #0069ff; font-weight: bold\">INFO    </span> Deleting endpoint configuration with name: roberta-embedding           <a href=\"file:///home/ec2-user/anaconda3/envs/python3/lib/python3.10/site-packages/sagemaker/session.py\" target=\"_blank\"><span style=\"color: #7f7f7f; text-decoration-color: #7f7f7f\">session.py</span></a><span style=\"color: #7f7f7f; text-decoration-color: #7f7f7f\">:</span><a href=\"file:///home/ec2-user/anaconda3/envs/python3/lib/python3.10/site-packages/sagemaker/session.py#4865\" target=\"_blank\"><span style=\"color: #7f7f7f; text-decoration-color: #7f7f7f\">4865</span></a>\n",
       "</pre>\n"
      ],
      "text/plain": [
       "\u001b[2;36m                   \u001b[0m\u001b[2;36m \u001b[0m\u001b[1;38;2;0;105;255mINFO    \u001b[0m Deleting endpoint configuration with name: roberta-embedding           \u001b]8;id=120072;file:///home/ec2-user/anaconda3/envs/python3/lib/python3.10/site-packages/sagemaker/session.py\u001b\\\u001b[2msession.py\u001b[0m\u001b]8;;\u001b\\\u001b[2m:\u001b[0m\u001b]8;id=224453;file:///home/ec2-user/anaconda3/envs/python3/lib/python3.10/site-packages/sagemaker/session.py#4865\u001b\\\u001b[2m4865\u001b[0m\u001b]8;;\u001b\\\n"
      ]
     },
     "metadata": {},
     "output_type": "display_data"
    }
   ],
   "source": [
    "model.sagemaker_session.delete_endpoint(model_name)\n",
    "model.sagemaker_session.delete_endpoint_config(model_name)"
   ]
  },
  {
   "cell_type": "markdown",
   "metadata": {},
   "source": [
    "## 3. Perform batch inference"
   ]
  },
  {
   "cell_type": "markdown",
   "metadata": {},
   "source": [
    "In this section, you will perform batch inference using multiple input payloads together. If you are not familiar with batch transform, and want to learn more, see these links:\n",
    "1. [How it works](https://docs.aws.amazon.com/sagemaker/latest/dg/ex1-batch-transform.html)\n",
    "2. [How to run a batch transform job](https://docs.aws.amazon.com/sagemaker/latest/dg/how-it-works-batch.html)"
   ]
  },
  {
   "cell_type": "code",
   "execution_count": 22,
   "metadata": {
    "tags": []
   },
   "outputs": [
    {
     "name": "stdout",
     "output_type": "stream",
     "text": [
      "total 12\r\n",
      "drwxrwxr-x 2 ec2-user ec2-user 4096 Jan 25 01:25 \u001b[0m\u001b[01;34m.\u001b[0m/\r\n",
      "drwxrwxr-x 4 ec2-user ec2-user 4096 Jan  6 22:17 \u001b[01;34m..\u001b[0m/\r\n",
      "-rw-rw-r-- 1 ec2-user ec2-user  193 Jan 25 01:18 input.jsonl\r\n"
     ]
    }
   ],
   "source": [
    "ls -la  data/input/batch/"
   ]
  },
  {
   "cell_type": "code",
   "execution_count": 23,
   "metadata": {
    "tags": []
   },
   "outputs": [
    {
     "name": "stdout",
     "output_type": "stream",
     "text": [
      "Transform input uploaded to s3://sagemaker-us-east-1-809103429415/roberta-embedding\n"
     ]
    }
   ],
   "source": [
    "# upload the batch-transform job input files to S3\n",
    "transform_input_folder = \"data/input/batch\"\n",
    "transform_input = sagemaker_session.upload_data(transform_input_folder, key_prefix=model_name)\n",
    "print(\"Transform input uploaded to \" + transform_input)"
   ]
  },
  {
   "cell_type": "code",
   "execution_count": 24,
   "metadata": {
    "tags": []
   },
   "outputs": [
    {
     "data": {
      "text/html": [
       "<pre style=\"white-space:pre;overflow-x:auto;line-height:normal;font-family:Menlo,'DejaVu Sans Mono',consolas,'Courier New',monospace\"><span style=\"color: #7fbfbf; text-decoration-color: #7fbfbf\">[01/25/25 01:26:05] </span><span style=\"color: #0069ff; text-decoration-color: #0069ff; font-weight: bold\">INFO    </span> Creating model with name:                                              <a href=\"file:///home/ec2-user/anaconda3/envs/python3/lib/python3.10/site-packages/sagemaker/session.py\" target=\"_blank\"><span style=\"color: #7f7f7f; text-decoration-color: #7f7f7f\">session.py</span></a><span style=\"color: #7f7f7f; text-decoration-color: #7f7f7f\">:</span><a href=\"file:///home/ec2-user/anaconda3/envs/python3/lib/python3.10/site-packages/sagemaker/session.py#4094\" target=\"_blank\"><span style=\"color: #7f7f7f; text-decoration-color: #7f7f7f\">4094</span></a>\n",
       "<span style=\"color: #7fbfbf; text-decoration-color: #7fbfbf\">                    </span>         roberta-embedding-gpu-0e3ddbbf3f67361f8-<span style=\"color: #008080; text-decoration-color: #008080; font-weight: bold\">2025</span>-01-25-01-26-05-365        <span style=\"color: #7f7f7f; text-decoration-color: #7f7f7f\">               </span>\n",
       "</pre>\n"
      ],
      "text/plain": [
       "\u001b[2;36m[01/25/25 01:26:05]\u001b[0m\u001b[2;36m \u001b[0m\u001b[1;38;2;0;105;255mINFO    \u001b[0m Creating model with name:                                              \u001b]8;id=494732;file:///home/ec2-user/anaconda3/envs/python3/lib/python3.10/site-packages/sagemaker/session.py\u001b\\\u001b[2msession.py\u001b[0m\u001b]8;;\u001b\\\u001b[2m:\u001b[0m\u001b]8;id=995555;file:///home/ec2-user/anaconda3/envs/python3/lib/python3.10/site-packages/sagemaker/session.py#4094\u001b\\\u001b[2m4094\u001b[0m\u001b]8;;\u001b\\\n",
       "\u001b[2;36m                    \u001b[0m         roberta-embedding-gpu-0e3ddbbf3f67361f8-\u001b[1;36m2025\u001b[0m-01-25-01-26-05-365        \u001b[2m               \u001b[0m\n"
      ]
     },
     "metadata": {},
     "output_type": "display_data"
    },
    {
     "data": {
      "text/html": [
       "<pre style=\"white-space:pre;overflow-x:auto;line-height:normal;font-family:Menlo,'DejaVu Sans Mono',consolas,'Courier New',monospace\"><span style=\"color: #7fbfbf; text-decoration-color: #7fbfbf\">[01/25/25 01:26:06] </span><span style=\"color: #0069ff; text-decoration-color: #0069ff; font-weight: bold\">INFO    </span> Creating transform job with name:                                      <a href=\"file:///home/ec2-user/anaconda3/envs/python3/lib/python3.10/site-packages/sagemaker/session.py\" target=\"_blank\"><span style=\"color: #7f7f7f; text-decoration-color: #7f7f7f\">session.py</span></a><span style=\"color: #7f7f7f; text-decoration-color: #7f7f7f\">:</span><a href=\"file:///home/ec2-user/anaconda3/envs/python3/lib/python3.10/site-packages/sagemaker/session.py#3951\" target=\"_blank\"><span style=\"color: #7f7f7f; text-decoration-color: #7f7f7f\">3951</span></a>\n",
       "<span style=\"color: #7fbfbf; text-decoration-color: #7fbfbf\">                    </span>         roberta-embedding-gpu-0e3ddbbf3f67361f8-<span style=\"color: #008080; text-decoration-color: #008080; font-weight: bold\">2025</span>-01-25-01-26-06-056        <span style=\"color: #7f7f7f; text-decoration-color: #7f7f7f\">               </span>\n",
       "</pre>\n"
      ],
      "text/plain": [
       "\u001b[2;36m[01/25/25 01:26:06]\u001b[0m\u001b[2;36m \u001b[0m\u001b[1;38;2;0;105;255mINFO    \u001b[0m Creating transform job with name:                                      \u001b]8;id=676594;file:///home/ec2-user/anaconda3/envs/python3/lib/python3.10/site-packages/sagemaker/session.py\u001b\\\u001b[2msession.py\u001b[0m\u001b]8;;\u001b\\\u001b[2m:\u001b[0m\u001b]8;id=968039;file:///home/ec2-user/anaconda3/envs/python3/lib/python3.10/site-packages/sagemaker/session.py#3951\u001b\\\u001b[2m3951\u001b[0m\u001b]8;;\u001b\\\n",
       "\u001b[2;36m                    \u001b[0m         roberta-embedding-gpu-0e3ddbbf3f67361f8-\u001b[1;36m2025\u001b[0m-01-25-01-26-06-056        \u001b[2m               \u001b[0m\n"
      ]
     },
     "metadata": {},
     "output_type": "display_data"
    },
    {
     "name": "stdout",
     "output_type": "stream",
     "text": [
      "...............................................................\u001b[34mStarting the inference server with 8 workers.\u001b[0m\n",
      "\u001b[34m[2025-01-25 01:36:41 +0000] [16] [INFO] Starting gunicorn 23.0.0\u001b[0m\n",
      "\u001b[34m[2025-01-25 01:36:41 +0000] [16] [INFO] Listening at: unix:/tmp/gunicorn.sock (16)\u001b[0m\n",
      "\u001b[34m[2025-01-25 01:36:41 +0000] [16] [INFO] Using worker: sync\u001b[0m\n",
      "\u001b[34m[2025-01-25 01:36:41 +0000] [18] [INFO] Booting worker with pid: 18\u001b[0m\n",
      "\u001b[34m[2025-01-25 01:36:41 +0000] [19] [INFO] Booting worker with pid: 19\u001b[0m\n",
      "\u001b[34m[2025-01-25 01:36:41 +0000] [20] [INFO] Booting worker with pid: 20\u001b[0m\n",
      "\u001b[34m[2025-01-25 01:36:41 +0000] [21] [INFO] Booting worker with pid: 21\u001b[0m\n",
      "\u001b[34m[2025-01-25 01:36:41 +0000] [22] [INFO] Booting worker with pid: 22\u001b[0m\n",
      "\u001b[34m[2025-01-25 01:36:41 +0000] [23] [INFO] Booting worker with pid: 23\u001b[0m\n",
      "\u001b[34m[2025-01-25 01:36:41 +0000] [24] [INFO] Booting worker with pid: 24\u001b[0m\n",
      "\u001b[34m[2025-01-25 01:36:41 +0000] [25] [INFO] Booting worker with pid: 25\u001b[0m\n",
      "\u001b[34mINFO:embedding_service:Model and tokenizer loaded successfully on device: cuda\u001b[0m\n",
      "\u001b[34mINFO:embedding_service:Model and tokenizer loaded successfully on device: cuda\u001b[0m\n",
      "\u001b[34mINFO:embedding_service:Model and tokenizer loaded successfully on device: cuda\u001b[0m\n",
      "\u001b[34mINFO:embedding_service:Model and tokenizer loaded successfully on device: cuda\u001b[0m\n",
      "\u001b[34mINFO:embedding_service:Model and tokenizer loaded successfully on device: cuda\u001b[0m\n",
      "\u001b[34mINFO:embedding_service:Model and tokenizer loaded successfully on device: cuda\u001b[0m\n",
      "\u001b[34mINFO:embedding_service:Model and tokenizer loaded successfully on device: cuda\u001b[0m\n",
      "\u001b[34mINFO:embedding_service:Model and tokenizer loaded successfully on device: cuda\u001b[0m\n",
      "\u001b[34m169.254.255.130 - - [25/Jan/2025:01:36:54 +0000] \"GET /ping HTTP/1.1\" 200 2 \"-\" \"Go-http-client/1.1\"\u001b[0m\n",
      "\u001b[34m169.254.255.130 - - [25/Jan/2025:01:36:54 +0000] \"GET /execution-parameters HTTP/1.1\" 404 2 \"-\" \"Go-http-client/1.1\"\u001b[0m\n",
      "\u001b[34mINFO:embedding_service:Processing request: X-Forwarded-For: 169.254.255.130#015\u001b[0m\n",
      "\u001b[34mHost: 169.254.255.131:8080#015\u001b[0m\n",
      "\u001b[34mConnection: close#015\u001b[0m\n",
      "\u001b[34mContent-Length: 81#015\u001b[0m\n",
      "\u001b[34mUser-Agent: Go-http-client/1.1#015\u001b[0m\n",
      "\u001b[34mContent-Type: application/json#015\u001b[0m\n",
      "\u001b[34mX-Amzn-Sagemaker-Input-Object: sagemaker-us-east-1-809103429415/roberta-embedding/input.jsonl#015\u001b[0m\n",
      "\u001b[34mX-Amzn-Sagemaker-Input-Object-Base64: c2FnZW1ha2VyLXVzLWVhc3QtMS04MDkxMDM0Mjk0MTUvcm9iZXJ0YS1lbWJlZGRpbmcvaW5wdXQuanNvbmw=#015\u001b[0m\n",
      "\u001b[34mAccept-Encoding: gzip#015\u001b[0m\n",
      "\u001b[34m#015\u001b[0m\n",
      "\u001b[34m169.254.255.130 - - [25/Jan/2025:01:36:54 +0000] \"POST /invocations HTTP/1.1\" 200 31587 \"-\" \"Go-http-client/1.1\"\u001b[0m\n",
      "\u001b[34mINFO:embedding_service:Processing request: X-Forwarded-For: 169.254.255.130#015\u001b[0m\n",
      "\u001b[34mHost: 169.254.255.131:8080#015\u001b[0m\n",
      "\u001b[34mConnection: close#015\u001b[0m\n",
      "\u001b[34mContent-Length: 47#015\u001b[0m\n",
      "\u001b[34mUser-Agent: Go-http-client/1.1#015\u001b[0m\n",
      "\u001b[34mContent-Type: application/json#015\u001b[0m\n",
      "\u001b[34mX-Amzn-Sagemaker-Input-Object: sagemaker-us-east-1-809103429415/roberta-embedding/input.jsonl#015\u001b[0m\n",
      "\u001b[34mX-Amzn-Sagemaker-Input-Object-Base64: c2FnZW1ha2VyLXVzLWVhc3QtMS04MDkxMDM0Mjk0MTUvcm9iZXJ0YS1lbWJlZGRpbmcvaW5wdXQuanNvbmw=#015\u001b[0m\n",
      "\u001b[34mAccept-Encoding: gzip#015\u001b[0m\n",
      "\u001b[34m#015\u001b[0m\n",
      "\u001b[34m169.254.255.130 - - [25/Jan/2025:01:36:54 +0000] \"POST /invocations HTTP/1.1\" 200 15904 \"-\" \"Go-http-client/1.1\"\u001b[0m\n",
      "\u001b[34mINFO:embedding_service:Processing request: X-Forwarded-For: 169.254.255.130#015\u001b[0m\n",
      "\u001b[34mHost: 169.254.255.131:8080#015\u001b[0m\n",
      "\u001b[34mConnection: close#015\u001b[0m\n",
      "\u001b[34mContent-Length: 66#015\u001b[0m\n",
      "\u001b[34mUser-Agent: Go-http-client/1.1#015\u001b[0m\n",
      "\u001b[34mContent-Type: application/json#015\u001b[0m\n",
      "\u001b[34mX-Amzn-Sagemaker-Input-Object: sagemaker-us-east-1-809103429415/roberta-embedding/input.jsonl#015\u001b[0m\n",
      "\u001b[34mX-Amzn-Sagemaker-Input-Object-Base64: c2FnZW1ha2VyLXVzLWVhc3QtMS04MDkxMDM0Mjk0MTUvcm9iZXJ0YS1lbWJlZGRpbmcvaW5wdXQuanNvbmw=#015\u001b[0m\n",
      "\u001b[34mAccept-Encoding: gzip#015\u001b[0m\n",
      "\u001b[34m#015\u001b[0m\n",
      "\u001b[34m169.254.255.130 - - [25/Jan/2025:01:36:54 +0000] \"POST /invocations HTTP/1.1\" 200 31685 \"-\" \"Go-http-client/1.1\"\u001b[0m\n",
      "\u001b[32m2025-01-25T01:36:54.269:[sagemaker logs]: MaxConcurrentTransforms=1, MaxPayloadInMB=6, BatchStrategy=SINGLE_RECORD\u001b[0m\n",
      "\n",
      "\u001b[34mStarting the inference server with 8 workers.\u001b[0m\n",
      "\u001b[34m[2025-01-25 01:36:41 +0000] [16] [INFO] Starting gunicorn 23.0.0\u001b[0m\n",
      "\u001b[34m[2025-01-25 01:36:41 +0000] [16] [INFO] Listening at: unix:/tmp/gunicorn.sock (16)\u001b[0m\n",
      "\u001b[34m[2025-01-25 01:36:41 +0000] [16] [INFO] Using worker: sync\u001b[0m\n",
      "\u001b[34m[2025-01-25 01:36:41 +0000] [18] [INFO] Booting worker with pid: 18\u001b[0m\n",
      "\u001b[34m[2025-01-25 01:36:41 +0000] [19] [INFO] Booting worker with pid: 19\u001b[0m\n",
      "\u001b[34m[2025-01-25 01:36:41 +0000] [20] [INFO] Booting worker with pid: 20\u001b[0m\n",
      "\u001b[35mStarting the inference server with 8 workers.\u001b[0m\n",
      "\u001b[35m[2025-01-25 01:36:41 +0000] [16] [INFO] Starting gunicorn 23.0.0\u001b[0m\n",
      "\u001b[35m[2025-01-25 01:36:41 +0000] [16] [INFO] Listening at: unix:/tmp/gunicorn.sock (16)\u001b[0m\n",
      "\u001b[35m[2025-01-25 01:36:41 +0000] [16] [INFO] Using worker: sync\u001b[0m\n",
      "\u001b[35m[2025-01-25 01:36:41 +0000] [18] [INFO] Booting worker with pid: 18\u001b[0m\n",
      "\u001b[35m[2025-01-25 01:36:41 +0000] [19] [INFO] Booting worker with pid: 19\u001b[0m\n",
      "\u001b[35m[2025-01-25 01:36:41 +0000] [20] [INFO] Booting worker with pid: 20\u001b[0m\n",
      "\u001b[34m[2025-01-25 01:36:41 +0000] [21] [INFO] Booting worker with pid: 21\u001b[0m\n",
      "\u001b[34m[2025-01-25 01:36:41 +0000] [22] [INFO] Booting worker with pid: 22\u001b[0m\n",
      "\u001b[34m[2025-01-25 01:36:41 +0000] [23] [INFO] Booting worker with pid: 23\u001b[0m\n",
      "\u001b[34m[2025-01-25 01:36:41 +0000] [24] [INFO] Booting worker with pid: 24\u001b[0m\n",
      "\u001b[34m[2025-01-25 01:36:41 +0000] [25] [INFO] Booting worker with pid: 25\u001b[0m\n",
      "\u001b[35m[2025-01-25 01:36:41 +0000] [21] [INFO] Booting worker with pid: 21\u001b[0m\n",
      "\u001b[35m[2025-01-25 01:36:41 +0000] [22] [INFO] Booting worker with pid: 22\u001b[0m\n",
      "\u001b[35m[2025-01-25 01:36:41 +0000] [23] [INFO] Booting worker with pid: 23\u001b[0m\n",
      "\u001b[35m[2025-01-25 01:36:41 +0000] [24] [INFO] Booting worker with pid: 24\u001b[0m\n",
      "\u001b[35m[2025-01-25 01:36:41 +0000] [25] [INFO] Booting worker with pid: 25\u001b[0m\n",
      "\u001b[34mINFO:embedding_service:Model and tokenizer loaded successfully on device: cuda\u001b[0m\n",
      "\u001b[34mINFO:embedding_service:Model and tokenizer loaded successfully on device: cuda\u001b[0m\n",
      "\u001b[34mINFO:embedding_service:Model and tokenizer loaded successfully on device: cuda\u001b[0m\n",
      "\u001b[34mINFO:embedding_service:Model and tokenizer loaded successfully on device: cuda\u001b[0m\n",
      "\u001b[34mINFO:embedding_service:Model and tokenizer loaded successfully on device: cuda\u001b[0m\n",
      "\u001b[34mINFO:embedding_service:Model and tokenizer loaded successfully on device: cuda\u001b[0m\n",
      "\u001b[34mINFO:embedding_service:Model and tokenizer loaded successfully on device: cuda\u001b[0m\n",
      "\u001b[34mINFO:embedding_service:Model and tokenizer loaded successfully on device: cuda\u001b[0m\n",
      "\u001b[35mINFO:embedding_service:Model and tokenizer loaded successfully on device: cuda\u001b[0m\n",
      "\u001b[35mINFO:embedding_service:Model and tokenizer loaded successfully on device: cuda\u001b[0m\n",
      "\u001b[35mINFO:embedding_service:Model and tokenizer loaded successfully on device: cuda\u001b[0m\n",
      "\u001b[35mINFO:embedding_service:Model and tokenizer loaded successfully on device: cuda\u001b[0m\n",
      "\u001b[35mINFO:embedding_service:Model and tokenizer loaded successfully on device: cuda\u001b[0m\n",
      "\u001b[35mINFO:embedding_service:Model and tokenizer loaded successfully on device: cuda\u001b[0m\n",
      "\u001b[35mINFO:embedding_service:Model and tokenizer loaded successfully on device: cuda\u001b[0m\n",
      "\u001b[35mINFO:embedding_service:Model and tokenizer loaded successfully on device: cuda\u001b[0m\n",
      "\u001b[34m169.254.255.130 - - [25/Jan/2025:01:36:54 +0000] \"GET /ping HTTP/1.1\" 200 2 \"-\" \"Go-http-client/1.1\"\u001b[0m\n",
      "\u001b[34m169.254.255.130 - - [25/Jan/2025:01:36:54 +0000] \"GET /execution-parameters HTTP/1.1\" 404 2 \"-\" \"Go-http-client/1.1\"\u001b[0m\n",
      "\u001b[34mINFO:embedding_service:Processing request: X-Forwarded-For: 169.254.255.130#015\u001b[0m\n",
      "\u001b[34mHost: 169.254.255.131:8080#015\u001b[0m\n",
      "\u001b[34mConnection: close#015\u001b[0m\n",
      "\u001b[34mContent-Length: 81#015\u001b[0m\n",
      "\u001b[34mUser-Agent: Go-http-client/1.1#015\u001b[0m\n",
      "\u001b[34mContent-Type: application/json#015\u001b[0m\n",
      "\u001b[34mX-Amzn-Sagemaker-Input-Object: sagemaker-us-east-1-809103429415/roberta-embedding/input.jsonl#015\u001b[0m\n",
      "\u001b[34mX-Amzn-Sagemaker-Input-Object-Base64: c2FnZW1ha2VyLXVzLWVhc3QtMS04MDkxMDM0Mjk0MTUvcm9iZXJ0YS1lbWJlZGRpbmcvaW5wdXQuanNvbmw=#015\u001b[0m\n",
      "\u001b[34mAccept-Encoding: gzip#015\u001b[0m\n",
      "\u001b[34m#015\u001b[0m\n",
      "\u001b[34m169.254.255.130 - - [25/Jan/2025:01:36:54 +0000] \"POST /invocations HTTP/1.1\" 200 31587 \"-\" \"Go-http-client/1.1\"\u001b[0m\n",
      "\u001b[34mINFO:embedding_service:Processing request: X-Forwarded-For: 169.254.255.130#015\u001b[0m\n",
      "\u001b[34mHost: 169.254.255.131:8080#015\u001b[0m\n",
      "\u001b[34mConnection: close#015\u001b[0m\n",
      "\u001b[34mContent-Length: 47#015\u001b[0m\n",
      "\u001b[34mUser-Agent: Go-http-client/1.1#015\u001b[0m\n",
      "\u001b[34mContent-Type: application/json#015\u001b[0m\n",
      "\u001b[34mX-Amzn-Sagemaker-Input-Object: sagemaker-us-east-1-809103429415/roberta-embedding/input.jsonl#015\u001b[0m\n",
      "\u001b[35m169.254.255.130 - - [25/Jan/2025:01:36:54 +0000] \"GET /ping HTTP/1.1\" 200 2 \"-\" \"Go-http-client/1.1\"\u001b[0m\n",
      "\u001b[35m169.254.255.130 - - [25/Jan/2025:01:36:54 +0000] \"GET /execution-parameters HTTP/1.1\" 404 2 \"-\" \"Go-http-client/1.1\"\u001b[0m\n",
      "\u001b[35mINFO:embedding_service:Processing request: X-Forwarded-For: 169.254.255.130#015\u001b[0m\n",
      "\u001b[35mHost: 169.254.255.131:8080#015\u001b[0m\n",
      "\u001b[35mConnection: close#015\u001b[0m\n",
      "\u001b[35mContent-Length: 81#015\u001b[0m\n",
      "\u001b[35mUser-Agent: Go-http-client/1.1#015\u001b[0m\n",
      "\u001b[35mContent-Type: application/json#015\u001b[0m\n",
      "\u001b[35mX-Amzn-Sagemaker-Input-Object: sagemaker-us-east-1-809103429415/roberta-embedding/input.jsonl#015\u001b[0m\n",
      "\u001b[35mX-Amzn-Sagemaker-Input-Object-Base64: c2FnZW1ha2VyLXVzLWVhc3QtMS04MDkxMDM0Mjk0MTUvcm9iZXJ0YS1lbWJlZGRpbmcvaW5wdXQuanNvbmw=#015\u001b[0m\n",
      "\u001b[35mAccept-Encoding: gzip#015\u001b[0m\n",
      "\u001b[35m#015\u001b[0m\n",
      "\u001b[35m169.254.255.130 - - [25/Jan/2025:01:36:54 +0000] \"POST /invocations HTTP/1.1\" 200 31587 \"-\" \"Go-http-client/1.1\"\u001b[0m\n",
      "\u001b[35mINFO:embedding_service:Processing request: X-Forwarded-For: 169.254.255.130#015\u001b[0m\n",
      "\u001b[35mHost: 169.254.255.131:8080#015\u001b[0m\n",
      "\u001b[35mConnection: close#015\u001b[0m\n",
      "\u001b[35mContent-Length: 47#015\u001b[0m\n",
      "\u001b[35mUser-Agent: Go-http-client/1.1#015\u001b[0m\n",
      "\u001b[35mContent-Type: application/json#015\u001b[0m\n",
      "\u001b[35mX-Amzn-Sagemaker-Input-Object: sagemaker-us-east-1-809103429415/roberta-embedding/input.jsonl#015\u001b[0m\n",
      "\u001b[34mX-Amzn-Sagemaker-Input-Object-Base64: c2FnZW1ha2VyLXVzLWVhc3QtMS04MDkxMDM0Mjk0MTUvcm9iZXJ0YS1lbWJlZGRpbmcvaW5wdXQuanNvbmw=#015\u001b[0m\n",
      "\u001b[34mAccept-Encoding: gzip#015\u001b[0m\n",
      "\u001b[34m#015\u001b[0m\n",
      "\u001b[34m169.254.255.130 - - [25/Jan/2025:01:36:54 +0000] \"POST /invocations HTTP/1.1\" 200 15904 \"-\" \"Go-http-client/1.1\"\u001b[0m\n",
      "\u001b[34mINFO:embedding_service:Processing request: X-Forwarded-For: 169.254.255.130#015\u001b[0m\n",
      "\u001b[34mHost: 169.254.255.131:8080#015\u001b[0m\n",
      "\u001b[34mConnection: close#015\u001b[0m\n",
      "\u001b[34mContent-Length: 66#015\u001b[0m\n",
      "\u001b[34mUser-Agent: Go-http-client/1.1#015\u001b[0m\n",
      "\u001b[34mContent-Type: application/json#015\u001b[0m\n",
      "\u001b[34mX-Amzn-Sagemaker-Input-Object: sagemaker-us-east-1-809103429415/roberta-embedding/input.jsonl#015\u001b[0m\n",
      "\u001b[34mX-Amzn-Sagemaker-Input-Object-Base64: c2FnZW1ha2VyLXVzLWVhc3QtMS04MDkxMDM0Mjk0MTUvcm9iZXJ0YS1lbWJlZGRpbmcvaW5wdXQuanNvbmw=#015\u001b[0m\n",
      "\u001b[34mAccept-Encoding: gzip#015\u001b[0m\n",
      "\u001b[34m#015\u001b[0m\n",
      "\u001b[34m169.254.255.130 - - [25/Jan/2025:01:36:54 +0000] \"POST /invocations HTTP/1.1\" 200 31685 \"-\" \"Go-http-client/1.1\"\u001b[0m\n",
      "\u001b[35mX-Amzn-Sagemaker-Input-Object-Base64: c2FnZW1ha2VyLXVzLWVhc3QtMS04MDkxMDM0Mjk0MTUvcm9iZXJ0YS1lbWJlZGRpbmcvaW5wdXQuanNvbmw=#015\u001b[0m\n",
      "\u001b[35mAccept-Encoding: gzip#015\u001b[0m\n",
      "\u001b[35m#015\u001b[0m\n",
      "\u001b[35m169.254.255.130 - - [25/Jan/2025:01:36:54 +0000] \"POST /invocations HTTP/1.1\" 200 15904 \"-\" \"Go-http-client/1.1\"\u001b[0m\n",
      "\u001b[35mINFO:embedding_service:Processing request: X-Forwarded-For: 169.254.255.130#015\u001b[0m\n",
      "\u001b[35mHost: 169.254.255.131:8080#015\u001b[0m\n",
      "\u001b[35mConnection: close#015\u001b[0m\n",
      "\u001b[35mContent-Length: 66#015\u001b[0m\n",
      "\u001b[35mUser-Agent: Go-http-client/1.1#015\u001b[0m\n",
      "\u001b[35mContent-Type: application/json#015\u001b[0m\n",
      "\u001b[35mX-Amzn-Sagemaker-Input-Object: sagemaker-us-east-1-809103429415/roberta-embedding/input.jsonl#015\u001b[0m\n",
      "\u001b[35mX-Amzn-Sagemaker-Input-Object-Base64: c2FnZW1ha2VyLXVzLWVhc3QtMS04MDkxMDM0Mjk0MTUvcm9iZXJ0YS1lbWJlZGRpbmcvaW5wdXQuanNvbmw=#015\u001b[0m\n",
      "\u001b[35mAccept-Encoding: gzip#015\u001b[0m\n",
      "\u001b[35m#015\u001b[0m\n",
      "\u001b[35m169.254.255.130 - - [25/Jan/2025:01:36:54 +0000] \"POST /invocations HTTP/1.1\" 200 31685 \"-\" \"Go-http-client/1.1\"\u001b[0m\n",
      "\u001b[32m2025-01-25T01:36:54.269:[sagemaker logs]: MaxConcurrentTransforms=1, MaxPayloadInMB=6, BatchStrategy=SINGLE_RECORD\u001b[0m\n"
     ]
    }
   ],
   "source": [
    "# Run the batch-transform job\n",
    "transformer = model.transformer(1, batch_transform_inference_instance_type, strategy='SingleRecord')\n",
    "transformer.transform(transform_input, content_type=content_type, split_type='Line')\n",
    "transformer.wait()"
   ]
  },
  {
   "cell_type": "code",
   "execution_count": 25,
   "metadata": {
    "tags": []
   },
   "outputs": [
    {
     "data": {
      "text/plain": [
       "'s3://sagemaker-us-east-1-809103429415/roberta-embedding-gpu-0e3ddbbf3f67361f8-2025-01-25-01-26-06-056'"
      ]
     },
     "execution_count": 25,
     "metadata": {},
     "output_type": "execute_result"
    }
   ],
   "source": [
    "# output is available on following path\n",
    "transformer.output_path"
   ]
  },
  {
   "cell_type": "markdown",
   "metadata": {
    "tags": []
   },
   "source": [
    "The output path returned above should contain a file \"input.jsonl.out\" (input file name suffixed with .out). The output in this file must match the output available in data/output/batch folder."
   ]
  },
  {
   "cell_type": "markdown",
   "metadata": {},
   "source": [
    "## 4. Clean-up"
   ]
  },
  {
   "cell_type": "markdown",
   "metadata": {},
   "source": [
    "### A. Delete the model"
   ]
  },
  {
   "cell_type": "code",
   "execution_count": 26,
   "metadata": {
    "tags": []
   },
   "outputs": [
    {
     "data": {
      "text/html": [
       "<pre style=\"white-space:pre;overflow-x:auto;line-height:normal;font-family:Menlo,'DejaVu Sans Mono',consolas,'Courier New',monospace\"><span style=\"color: #7fbfbf; text-decoration-color: #7fbfbf\">[01/25/25 01:37:56] </span><span style=\"color: #0069ff; text-decoration-color: #0069ff; font-weight: bold\">INFO    </span> Deleting model with name:                                              <a href=\"file:///home/ec2-user/anaconda3/envs/python3/lib/python3.10/site-packages/sagemaker/session.py\" target=\"_blank\"><span style=\"color: #7f7f7f; text-decoration-color: #7f7f7f\">session.py</span></a><span style=\"color: #7f7f7f; text-decoration-color: #7f7f7f\">:</span><a href=\"file:///home/ec2-user/anaconda3/envs/python3/lib/python3.10/site-packages/sagemaker/session.py#5226\" target=\"_blank\"><span style=\"color: #7f7f7f; text-decoration-color: #7f7f7f\">5226</span></a>\n",
       "<span style=\"color: #7fbfbf; text-decoration-color: #7fbfbf\">                    </span>         roberta-embedding-gpu-0e3ddbbf3f67361f8-<span style=\"color: #008080; text-decoration-color: #008080; font-weight: bold\">2025</span>-01-25-01-26-05-365        <span style=\"color: #7f7f7f; text-decoration-color: #7f7f7f\">               </span>\n",
       "</pre>\n"
      ],
      "text/plain": [
       "\u001b[2;36m[01/25/25 01:37:56]\u001b[0m\u001b[2;36m \u001b[0m\u001b[1;38;2;0;105;255mINFO    \u001b[0m Deleting model with name:                                              \u001b]8;id=686406;file:///home/ec2-user/anaconda3/envs/python3/lib/python3.10/site-packages/sagemaker/session.py\u001b\\\u001b[2msession.py\u001b[0m\u001b]8;;\u001b\\\u001b[2m:\u001b[0m\u001b]8;id=706249;file:///home/ec2-user/anaconda3/envs/python3/lib/python3.10/site-packages/sagemaker/session.py#5226\u001b\\\u001b[2m5226\u001b[0m\u001b]8;;\u001b\\\n",
       "\u001b[2;36m                    \u001b[0m         roberta-embedding-gpu-0e3ddbbf3f67361f8-\u001b[1;36m2025\u001b[0m-01-25-01-26-05-365        \u001b[2m               \u001b[0m\n"
      ]
     },
     "metadata": {},
     "output_type": "display_data"
    }
   ],
   "source": [
    "model.delete_model()"
   ]
  },
  {
   "cell_type": "markdown",
   "metadata": {},
   "source": [
    "### B. Unsubscribe to the listing (optional)"
   ]
  },
  {
   "cell_type": "markdown",
   "metadata": {},
   "source": [
    "If you would like to unsubscribe to the model package, follow these steps. Before you cancel the subscription, ensure that you do not have any [deployable model](https://console.aws.amazon.com/sagemaker/home#/models) created from the model package or using the algorithm. Note - You can find this information by looking at the container name associated with the model. \n",
    "\n",
    "**Steps to unsubscribe to product from AWS Marketplace**:\n",
    "1. Navigate to __Machine Learning__ tab on [__Your Software subscriptions page__](https://aws.amazon.com/marketplace/ai/library?productType=ml&ref_=mlmp_gitdemo_indust)\n",
    "2. Locate the listing that you want to cancel the subscription for, and then choose __Cancel Subscription__  to cancel the subscription.\n",
    "\n"
   ]
  }
 ],
 "metadata": {
  "instance_type": "ml.t3.medium",
  "kernelspec": {
   "display_name": "conda_python3",
   "language": "python",
   "name": "conda_python3"
  },
  "language_info": {
   "codemirror_mode": {
    "name": "ipython",
    "version": 3
   },
   "file_extension": ".py",
   "mimetype": "text/x-python",
   "name": "python",
   "nbconvert_exporter": "python",
   "pygments_lexer": "ipython3",
   "version": "3.10.16"
  }
 },
 "nbformat": 4,
 "nbformat_minor": 4
}
